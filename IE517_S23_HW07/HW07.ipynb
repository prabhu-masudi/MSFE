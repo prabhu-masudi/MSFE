{
  "nbformat": 4,
  "nbformat_minor": 0,
  "metadata": {
    "colab": {
      "provenance": []
    },
    "kernelspec": {
      "name": "python3",
      "display_name": "Python 3"
    },
    "language_info": {
      "name": "python"
    }
  },
  "cells": [
    {
      "cell_type": "code",
      "execution_count": 3,
      "metadata": {
        "colab": {
          "base_uri": "https://localhost:8080/"
        },
        "id": "fsMT1GRqmOEy",
        "outputId": "e089fde3-7c8e-4877-c0d4-b9545dcb9138"
      },
      "outputs": [
        {
          "output_type": "stream",
          "name": "stdout",
          "text": [
            "n_estimators=5: in-sample accuracy=0.7881481481481482, out-of-sample accuracy=0.79\n",
            "n_estimators=8: in-sample accuracy=0.8033333333333333, out-of-sample accuracy=0.81\n",
            "n_estimators=10: in-sample accuracy=0.8069629629629631, out-of-sample accuracy=0.8066666666666666\n",
            "n_estimators=13: in-sample accuracy=0.8070370370370371, out-of-sample accuracy=0.8036666666666666\n",
            "n_estimators=15: in-sample accuracy=0.8078148148148149, out-of-sample accuracy=0.803\n",
            "\n",
            "\n",
            "\n",
            "[0.06246333 0.01204183 0.02044612 0.01511154 0.067242   0.0960031\n",
            " 0.04347473 0.02847872 0.03065221 0.01239372 0.01861143 0.05872006\n",
            " 0.05483979 0.0497383  0.05053074 0.05143419 0.05134021 0.05073126\n",
            " 0.04695347 0.04503139 0.04642255 0.04161619 0.04572314]\n"
          ]
        }
      ],
      "source": [
        "import pandas as pd\n",
        "from sklearn.model_selection import train_test_split, cross_val_score\n",
        "from sklearn.ensemble import RandomForestClassifier\n",
        "\n",
        "df = pd.read_csv('/content/ccdefault.csv')\n",
        "\n",
        "X = df.drop(['ID', 'DEFAULT'], axis=1)\n",
        "y = df['DEFAULT']\n",
        "X_train, X_test, y_train, y_test = train_test_split(X, y, test_size=0.1, random_state=42)\n",
        "\n",
        "\n",
        "n_estimators_range = [5, 8, 10, 13, 15]\n",
        "\n",
        "\n",
        "for n_estimators in n_estimators_range:\n",
        "    rf = RandomForestClassifier(n_estimators=n_estimators, random_state=42)\n",
        "    cv_scores = cross_val_score(rf, X_train, y_train, cv=10)\n",
        "    in_sample_accuracy = cv_scores.mean()\n",
        "    rf.fit(X_train, y_train)\n",
        "    out_of_sample_accuracy = rf.score(X_test, y_test)\n",
        "    print(f'n_estimators={n_estimators}: in-sample accuracy={in_sample_accuracy}, out-of-sample accuracy={out_of_sample_accuracy}')\n",
        "\n",
        "best_rf = RandomForestClassifier(n_estimators=15, random_state=42)\n",
        "best_rf.fit(X_train, y_train)\n",
        "importances = best_rf.feature_importances_\n",
        "print(\"\\n\\n\")\n",
        "print(importances)\n"
      ]
    },
    {
      "cell_type": "code",
      "source": [
        "print(\"My name is Prabhuling Masoodi\")\n",
        "print(\"My NetID is: 674647769\")\n",
        "print(\"I hereby certify that I have read the University policy on Academic Integrity and that I am not in violation.\")"
      ],
      "metadata": {
        "colab": {
          "base_uri": "https://localhost:8080/"
        },
        "id": "k70GlBYzoGXc",
        "outputId": "3bd133d6-7879-42b5-9987-e21e20be3f8f"
      },
      "execution_count": 4,
      "outputs": [
        {
          "output_type": "stream",
          "name": "stdout",
          "text": [
            "My name is Prabhuling Masoodi\n",
            "My NetID is: 674647769\n",
            "I hereby certify that I have read the University policy on Academic Integrity and that I am not in violation.\n"
          ]
        }
      ]
    },
    {
      "cell_type": "code",
      "source": [],
      "metadata": {
        "id": "ttwaJDk_qjg5"
      },
      "execution_count": null,
      "outputs": []
    }
  ]
}