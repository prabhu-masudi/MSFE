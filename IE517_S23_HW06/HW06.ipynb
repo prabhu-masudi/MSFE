{
  "nbformat": 4,
  "nbformat_minor": 0,
  "metadata": {
    "colab": {
      "provenance": []
    },
    "kernelspec": {
      "name": "python3",
      "display_name": "Python 3"
    },
    "language_info": {
      "name": "python"
    }
  },
  "cells": [
    {
      "cell_type": "code",
      "source": [
        "import pandas as pd\n",
        "from sklearn.tree import DecisionTreeClassifier\n",
        "from sklearn.model_selection import train_test_split, cross_val_score, StratifiedKFold\n",
        "\n",
        "df = pd.read_csv('/content/ccdefault.csv')\n",
        "\n",
        "X = df.drop(['ID', 'DEFAULT'], axis=1)\n",
        "y = df['DEFAULT']\n",
        "X_train, X_test, y_train, y_test = train_test_split(X, y, test_size=0.1, random_state=1)\n",
        "\n",
        "acc_scores = []\n",
        "\n",
        "for i in range(1, 11):\n",
        "    dt = DecisionTreeClassifier(random_state=i)\n",
        "    dt.fit(X_train, y_train)\n",
        "    in_sample_acc = dt.score(X_train, y_train)\n",
        "    out_of_sample_acc = dt.score(X_test, y_test)\n",
        "    acc_scores.append([in_sample_acc, out_of_sample_acc])\n",
        "\n",
        "acc_scores = pd.DataFrame(acc_scores, columns=['In-Sample Accuracy', 'Out-of-Sample Accuracy'])\n",
        "print(acc_scores,\"\\n\\n\")\n",
        "\n",
        "\n",
        "mean = acc_scores.mean()\n",
        "std = acc_scores.std()\n",
        "\n",
        "print('Mean:\\n', mean, \"\\n\")\n",
        "print('Standard Deviation:\\n', std,\"\\n\")\n",
        "\n",
        "skf = StratifiedKFold(n_splits=10, random_state=1, shuffle=True)\n",
        "dt = DecisionTreeClassifier(random_state=1)\n",
        "dt.fit(X_train, y_train)\n",
        "\n",
        "cv_scores = cross_val_score(dt, X_train, y_train, cv=skf)\n",
        "\n",
        "print('Cross-Validation Scores:', cv_scores,\"\\n\")\n",
        "print('Mean Cross-Validation Score:', cv_scores.mean(),\"\\n\")\n",
        "print('Std Cross-Validation Score:', cv_scores.std(),\"\\n\")\n",
        "print('Out-of-Sample Score:', dt.score(X_test, y_test),\"\\n\")\n"
      ],
      "metadata": {
        "colab": {
          "base_uri": "https://localhost:8080/"
        },
        "id": "0TYGzrGdb7v6",
        "outputId": "6f643d5f-3c54-4f15-ecaf-53203b8f3d1e"
      },
      "execution_count": 7,
      "outputs": [
        {
          "output_type": "stream",
          "name": "stdout",
          "text": [
            "   In-Sample Accuracy  Out-of-Sample Accuracy\n",
            "0            0.999333                0.722667\n",
            "1            0.999333                0.726667\n",
            "2            0.999333                0.725667\n",
            "3            0.999333                0.720333\n",
            "4            0.999333                0.727333\n",
            "5            0.999333                0.725000\n",
            "6            0.999333                0.723667\n",
            "7            0.999333                0.725667\n",
            "8            0.999333                0.726000\n",
            "9            0.999333                0.727667 \n",
            "\n",
            "\n",
            "Mean:\n",
            " In-Sample Accuracy        0.999333\n",
            "Out-of-Sample Accuracy    0.725067\n",
            "dtype: float64 \n",
            "\n",
            "Standard Deviation:\n",
            " In-Sample Accuracy        1.170278e-16\n",
            "Out-of-Sample Accuracy    2.265141e-03\n",
            "dtype: float64 \n",
            "\n",
            "Cross-Validation Scores: [0.72962963 0.73333333 0.73259259 0.71851852 0.72148148 0.72259259\n",
            " 0.71481481 0.73259259 0.72518519 0.73851852] \n",
            "\n",
            "Mean Cross-Validation Score: 0.726925925925926 \n",
            "\n",
            "Std Cross-Validation Score: 0.007181843438245332 \n",
            "\n",
            "Out-of-Sample Score: 0.7226666666666667 \n",
            "\n"
          ]
        }
      ]
    },
    {
      "cell_type": "code",
      "source": [
        "print(\"My name is Prabhuling Masoodi\")\n",
        "print(\"My NetID is: 674647769\")\n",
        "print(\"I hereby certify that I have read the University policy on Academic Integrity and that I am not in violation.\")"
      ],
      "metadata": {
        "colab": {
          "base_uri": "https://localhost:8080/"
        },
        "id": "iBKYDq3bdses",
        "outputId": "5f5494ba-a579-4bfa-bd62-6a8fced6d3dd"
      },
      "execution_count": 5,
      "outputs": [
        {
          "output_type": "stream",
          "name": "stdout",
          "text": [
            "My name is Prabhuling Masoodi\n",
            "My NetID is: 674647769\n",
            "I hereby certify that I have read the University policy on Academic Integrity and that I am not in violation.\n"
          ]
        }
      ]
    },
    {
      "cell_type": "code",
      "source": [],
      "metadata": {
        "id": "AEy1tHdoeBaQ"
      },
      "execution_count": null,
      "outputs": []
    }
  ]
}