{
  "nbformat": 4,
  "nbformat_minor": 0,
  "metadata": {
    "colab": {
      "provenance": []
    },
    "kernelspec": {
      "name": "python3",
      "display_name": "Python 3"
    },
    "language_info": {
      "name": "python"
    }
  },
  "cells": [
    {
      "cell_type": "code",
      "execution_count": 12,
      "metadata": {
        "colab": {
          "base_uri": "https://localhost:8080/",
          "height": 282
        },
        "id": "Nd4hIcOfHINf",
        "outputId": "9f89fa46-a9c8-445c-a5a6-fce006cef5a8"
      },
      "outputs": [
        {
          "output_type": "execute_result",
          "data": {
            "text/plain": [
              "[<matplotlib.lines.Line2D at 0x7f03f914d940>]"
            ]
          },
          "metadata": {},
          "execution_count": 12
        },
        {
          "output_type": "display_data",
          "data": {
            "text/plain": [
              "<Figure size 432x288 with 1 Axes>"
            ],
            "image/png": "[encoded data removed]"
          },
          "metadata": {
            "needs_background": "light"
          }
        }
      ],
      "source": [
        "import numpy as np\n",
        "import pandas as pd\n",
        "from sklearn.neighbors import KNeighborsClassifier\n",
        "from sklearn.tree import DecisionTreeClassifier\n",
        "from sklearn.model_selection import train_test_split\n",
        "import matplotlib.pyplot as plt\n",
        "\n",
        "data = pd.read_csv(\"/content/Treasury Squeeze raw score data(1).csv\")\n",
        "\n",
        "data = data.drop(['rowindex', 'contract'], axis = 1)\n",
        "\n",
        "X = data.iloc[:, :-1].values\n",
        "y = data.iloc[:, -1].values\n",
        "\n",
        "X_train, X_test, y_train, y_test = train_test_split(X, y, test_size=0.2, random_state=0)\n",
        "\n",
        "\n",
        "k_range = range(1,26)\n",
        "score = []\n",
        "for k in k_range:\n",
        "  knn = knn = KNeighborsClassifier(n_neighbors=k)\n",
        "  knn.fit(X_train, y_train)\n",
        "  y_pred = knn.predict(X_test)\n",
        "  score.append(knn.score(X_test, y_test))\n",
        "\n",
        "\n",
        "plt.plot(k_range, score)"
      ]
    },
    {
      "cell_type": "markdown",
      "source": [
        "Highest accuracy seems to be for K = 13"
      ],
      "metadata": {
        "id": "6LT8tbhEOe07"
      }
    },
    {
      "cell_type": "code",
      "source": [
        "#Decision Tree Classifier Default depth\n",
        "\n",
        "dt = DecisionTreeClassifier()\n",
        "\n",
        "dt.fit(X_train, y_train)\n",
        "\n",
        "accuracy = dt.score(X_test, y_test)\n",
        "\n"
      ],
      "metadata": {
        "colab": {
          "base_uri": "https://localhost:8080/"
        },
        "id": "ffaZ5AzHO4Br",
        "outputId": "a095780c-87b2-44ad-f39c-cbf595955a99"
      },
      "execution_count": 15,
      "outputs": [
        {
          "output_type": "stream",
          "name": "stdout",
          "text": [
            "Accuracy:  0.6\n"
          ]
        }
      ]
    },
    {
      "cell_type": "code",
      "source": [
        "#Decision Tree with different depths\n",
        "scores_dt = []\n",
        "for i in range(1, 6):\n",
        "  dt = DecisionTreeClassifier()\n",
        "  dt.fit(X_train, y_train)\n",
        "  accuracy = dt.score(X_test, y_test)\n",
        "  scores_dt.append(accuracy)\n"
      ],
      "metadata": {
        "id": "0KhPX6kzPMFO"
      },
      "execution_count": 20,
      "outputs": []
    },
    {
      "cell_type": "code",
      "source": [
        "scores_dt"
      ],
      "metadata": {
        "colab": {
          "base_uri": "https://localhost:8080/"
        },
        "id": "DVQRd0DrQJQ-",
        "outputId": "e11edce6-ef15-47e7-d3cd-dffba1e8c11c"
      },
      "execution_count": 21,
      "outputs": [
        {
          "output_type": "execute_result",
          "data": {
            "text/plain": [
              "[0.5611111111111111,\n",
              " 0.5833333333333334,\n",
              " 0.5833333333333334,\n",
              " 0.6111111111111112,\n",
              " 0.6055555555555555]"
            ]
          },
          "metadata": {},
          "execution_count": 21
        }
      ]
    },
    {
      "cell_type": "code",
      "source": [],
      "metadata": {
        "id": "jrAKYyFrQKyd"
      },
      "execution_count": null,
      "outputs": []
    }
  ]
}